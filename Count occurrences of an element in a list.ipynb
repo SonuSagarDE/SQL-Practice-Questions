{
 "cells": [
  {
   "cell_type": "code",
   "execution_count": 1,
   "id": "7ca9a94b",
   "metadata": {},
   "outputs": [],
   "source": [
    "def countx(list1,x):\n",
    "    count=0\n",
    "    for ele in list1:\n",
    "        if ele==x:\n",
    "            count+=1\n",
    "    return count\n"
   ]
  },
  {
   "cell_type": "code",
   "execution_count": 3,
   "id": "59381d9d",
   "metadata": {},
   "outputs": [
    {
     "data": {
      "text/plain": [
       "2"
      ]
     },
     "execution_count": 3,
     "metadata": {},
     "output_type": "execute_result"
    }
   ],
   "source": [
    "# declaring the list\n",
    "l = [1, 1, 2, 2, 3, 3, 4, 4, 5, 5]\n",
    " \n",
    "# driver program\n",
    "x = 3\n",
    "\n",
    "countx(l,x)"
   ]
  },
  {
   "cell_type": "code",
   "execution_count": 4,
   "id": "02b6e9a2",
   "metadata": {},
   "outputs": [
    {
     "name": "stdout",
     "output_type": "stream",
     "text": [
      "{'a': 3, 'd': 3, 'c': 2, 'b': 2, 'e': 1}\n"
     ]
    }
   ],
   "source": [
    "\n",
    "lis = ['a', 'd', 'd', 'c', 'a', 'b', 'b', 'a', 'c', 'd', 'e']\n",
    "occurrence = {item: lis.count(item) for item in lis}\n",
    "print(occurrence)"
   ]
  },
  {
   "cell_type": "code",
   "execution_count": 8,
   "id": "50a477d6",
   "metadata": {},
   "outputs": [
    {
     "name": "stdout",
     "output_type": "stream",
     "text": [
      "I\n",
      "n\n",
      "d\n",
      "i\n",
      "a\n",
      "n\n"
     ]
    }
   ],
   "source": [
    "inp_str='Indian'\n",
    "\n",
    "for i in inp_str:\n",
    "    print(f\"{i}\")"
   ]
  },
  {
   "cell_type": "code",
   "execution_count": 12,
   "id": "b42105d9",
   "metadata": {},
   "outputs": [
    {
     "name": "stdout",
     "output_type": "stream",
     "text": [
      "Enter a string: Indian\n",
      "I-1\n",
      "n-2\n",
      "d-1\n",
      "i-1\n",
      "a-1\n"
     ]
    }
   ],
   "source": [
    "def count_characters(string):\n",
    "    # Create an empty dictionary to store the character counts\n",
    "    char_counts = {}\n",
    "\n",
    "    # Iterate over each character in the string\n",
    "    for char in string:\n",
    "        # Check if the character is already in the dictionary\n",
    "        if char in char_counts:\n",
    "            # If it is, increment the count by 1\n",
    "            char_counts[char] += 1\n",
    "        else:\n",
    "            # If it is not, add the character to the dictionary with a count of 1\n",
    "            char_counts[char] = 1\n",
    "\n",
    "    # Return the dictionary of character counts\n",
    "    return char_counts\n",
    "\n",
    "\n",
    "# Test the function\n",
    "input_string = input(\"Enter a string: \")\n",
    "result = count_characters(input_string)\n",
    "\n",
    "# Print the character counts\n",
    "for char, count in result.items():\n",
    "    print(f\"{char}-{count}\")"
   ]
  },
  {
   "cell_type": "code",
   "execution_count": null,
   "id": "2f187ce4",
   "metadata": {},
   "outputs": [],
   "source": []
  }
 ],
 "metadata": {
  "kernelspec": {
   "display_name": "Python 3 (ipykernel)",
   "language": "python",
   "name": "python3"
  },
  "language_info": {
   "codemirror_mode": {
    "name": "ipython",
    "version": 3
   },
   "file_extension": ".py",
   "mimetype": "text/x-python",
   "name": "python",
   "nbconvert_exporter": "python",
   "pygments_lexer": "ipython3",
   "version": "3.9.12"
  }
 },
 "nbformat": 4,
 "nbformat_minor": 5
}
