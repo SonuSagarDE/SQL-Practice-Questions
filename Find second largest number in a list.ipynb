{
 "cells": [
  {
   "cell_type": "code",
   "execution_count": null,
   "id": "10d1e3d9",
   "metadata": {},
   "outputs": [],
   "source": [
    "Inp=[20,10,40]\n",
    "Output=[20]\n"
   ]
  },
  {
   "cell_type": "code",
   "execution_count": 3,
   "id": "c01dcb40",
   "metadata": {},
   "outputs": [],
   "source": [
    "def second_largest(arr):\n",
    "    # edge check\n",
    "    if len(arr)<2:\n",
    "        return None\n",
    "    first,second=arr[0],arr[1]\n",
    "    if first<second:\n",
    "        first,second=second,first\n",
    "    for n in arr[2:]:\n",
    "        if n>first:\n",
    "            first,second=n,first\n",
    "        elif n>second:\n",
    "             second=n\n",
    "    return second            \n"
   ]
  },
  {
   "cell_type": "code",
   "execution_count": 4,
   "id": "8a44297f",
   "metadata": {},
   "outputs": [
    {
     "data": {
      "text/plain": [
       "5"
      ]
     },
     "execution_count": 4,
     "metadata": {},
     "output_type": "execute_result"
    }
   ],
   "source": [
    "num=[2,3,-1,4,5,6]\n",
    "second_largest(num)"
   ]
  },
  {
   "cell_type": "code",
   "execution_count": null,
   "id": "aeccd689",
   "metadata": {},
   "outputs": [],
   "source": []
  }
 ],
 "metadata": {
  "kernelspec": {
   "display_name": "Python 3 (ipykernel)",
   "language": "python",
   "name": "python3"
  },
  "language_info": {
   "codemirror_mode": {
    "name": "ipython",
    "version": 3
   },
   "file_extension": ".py",
   "mimetype": "text/x-python",
   "name": "python",
   "nbconvert_exporter": "python",
   "pygments_lexer": "ipython3",
   "version": "3.9.12"
  }
 },
 "nbformat": 4,
 "nbformat_minor": 5
}
